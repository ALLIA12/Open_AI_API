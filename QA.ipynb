{
 "cells": [
  {
   "cell_type": "code",
   "id": "initial_id",
   "metadata": {
    "collapsed": true,
    "ExecuteTime": {
     "end_time": "2024-04-21T17:36:59.650452Z",
     "start_time": "2024-04-21T17:36:59.185159Z"
    }
   },
   "source": [
    "from openai import OpenAI\n",
    "import os\n",
    "from dotenv import load_dotenv\n",
    "import pdfplumber\n",
    "import pandas as pd\n"
   ],
   "outputs": [],
   "execution_count": 1
  },
  {
   "metadata": {
    "ExecuteTime": {
     "end_time": "2024-04-21T17:37:00.396416Z",
     "start_time": "2024-04-21T17:37:00.275304Z"
    }
   },
   "cell_type": "code",
   "source": [
    "# Load environment variables from .env file\n",
    "load_dotenv()\n",
    "\n",
    "client = OpenAI(\n",
    "    # api_key=os.getenv('OPENAI_API_KEY_ALI')\n",
    "    api_key=os.getenv('OPENAI_API_KEY')\n",
    ")\n"
   ],
   "id": "7e4f4bf0545786ac",
   "outputs": [],
   "execution_count": 2
  },
  {
   "metadata": {
    "ExecuteTime": {
     "end_time": "2024-04-21T17:37:01.367182Z",
     "start_time": "2024-04-21T17:37:01.364161Z"
    }
   },
   "cell_type": "code",
   "source": [
    "def ask_chatgpt_text(question, context):\n",
    "    chat_completion = client.chat.completions.create(\n",
    "        messages=[\n",
    "            {\"role\": \"system\", \"content\": \"You are a helpful assistant.\"},\n",
    "            {\"role\": \"user\", \"content\": context},\n",
    "            {\"role\": \"user\", \"content\": question}\n",
    "        ],\n",
    "        model=\"gpt-4\",\n",
    "        # model=\"gpt-3.5-turbo\",\n",
    "    )\n",
    "    # print(chat_completion.choices[0].message.content)\n",
    "    return chat_completion.choices[0].message.content"
   ],
   "id": "2a5c5f377b75515c",
   "outputs": [],
   "execution_count": 3
  },
  {
   "metadata": {
    "ExecuteTime": {
     "end_time": "2024-04-21T17:37:02.432949Z",
     "start_time": "2024-04-21T17:37:02.430652Z"
    }
   },
   "cell_type": "code",
   "source": [
    "def extract_text_from_pdf(pdf_path):\n",
    "    text = \"\"\n",
    "    with pdfplumber.open(pdf_path) as pdf:\n",
    "        for page in pdf.pages:\n",
    "            text += page.extract_text()\n",
    "    return text\n",
    "\n"
   ],
   "id": "f4b8e62b37575478",
   "outputs": [],
   "execution_count": 4
  },
  {
   "metadata": {
    "ExecuteTime": {
     "end_time": "2024-04-21T17:37:03.197794Z",
     "start_time": "2024-04-21T17:37:03.195287Z"
    }
   },
   "cell_type": "code",
   "source": [
    "def ask_question_from_pdf(pdf_path, question):\n",
    "    context = extract_text_from_pdf(pdf_path)\n",
    "    return ask_chatgpt_text(question, context)\n",
    "\n"
   ],
   "id": "3d56ffeb59e3e8e4",
   "outputs": [],
   "execution_count": 5
  },
  {
   "metadata": {
    "ExecuteTime": {
     "end_time": "2024-04-21T17:37:28.340614Z",
     "start_time": "2024-04-21T17:37:25.941017Z"
    }
   },
   "cell_type": "code",
   "source": [
    "context = (\n",
    "    \"His name is Ali Mohammad, He is 24, he works as a developer and he lives in Jeddah, and his friend lives in \"\n",
    "    \"Riyadh.\")\n",
    "question = \"Where does Ali's friend live? and how old are they\"\n",
    "answer = ask_chatgpt_text(question, context)\n",
    "print(\"Answer:\", answer)"
   ],
   "id": "84d80c713f65e00f",
   "outputs": [
    {
     "name": "stdout",
     "output_type": "stream",
     "text": [
      "Answer: You mentioned that Ali's friend lives in Riyadh. However, you didn't provide information about his friend's age.\n"
     ]
    }
   ],
   "execution_count": 9
  },
  {
   "metadata": {
    "ExecuteTime": {
     "end_time": "2024-04-21T17:37:24.625272Z",
     "start_time": "2024-04-21T17:37:16.666706Z"
    }
   },
   "cell_type": "code",
   "source": [
    "pdf_path = \"Report 1 draft.pdf\"\n",
    "question = \"What is the main topic discussed in the document?\"\n",
    "answer = ask_question_from_pdf(pdf_path, question)\n",
    "print(\"Answer:\", answer)"
   ],
   "id": "c979a3efd188d3f",
   "outputs": [
    {
     "name": "stdout",
     "output_type": "stream",
     "text": [
      "Answer: The main topic of this document is the development of a tower defense game called \"Royal Defenders\" by a team of computer science students from King Abdulaziz University. The document discusses the agile development approach they adopted, the decisions they made, and the different stages of development, including research, demo development, and implementation of pathfinding algorithms. They also discuss the specific technologies and tools used in the project like Unity, Blender, and Github. The report also provides detailed information about the game's interfaces like the main menu, settings menu, level select menu, the in-game interface, and the pause menu.\n"
     ]
    }
   ],
   "execution_count": 8
  },
  {
   "metadata": {},
   "cell_type": "code",
   "outputs": [],
   "execution_count": null,
   "source": "",
   "id": "5d046a19830095ef"
  }
 ],
 "metadata": {
  "kernelspec": {
   "display_name": "Python 3",
   "language": "python",
   "name": "python3"
  },
  "language_info": {
   "codemirror_mode": {
    "name": "ipython",
    "version": 2
   },
   "file_extension": ".py",
   "mimetype": "text/x-python",
   "name": "python",
   "nbconvert_exporter": "python",
   "pygments_lexer": "ipython2",
   "version": "2.7.6"
  }
 },
 "nbformat": 4,
 "nbformat_minor": 5
}
